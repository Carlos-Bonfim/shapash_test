{
 "cells": [
  {
   "cell_type": "markdown",
   "id": "thick-constitutional",
   "metadata": {},
   "source": [
    "# Shapash Library\n",
    "\n",
    "**Shapash** by *MAIF* é um kit de ferramentas Python que facilita a compreensão de modelos de aprendizado de máquina para cientistas de dados. Isso torna mais fácil compartilhar e discutir a interpretabilidade do modelo com não especialistas em dados: analistas de negócios, gerentes e usuários finais.\n",
    "\n",
    "Concretamente, o Shapash fornece visualizações fáceis de ler e um aplicativo da web. O Shapash exibe os resultados com o texto apropriado (pré-processamento inverso / pós-processamento). O Shapash é útil em um contexto operacional, pois permite que os cientistas de dados usem a explicabilidade da exploração à produção: você pode facilmente implantar a explicabilidade local na produção para completar cada uma de suas previsões / recomendações com um resumo da explicabilidade local.\n",
    "\n",
    "Documentação: https://shapash.readthedocs.io/en/latest/<br>\n",
    "Artigo: https://www.kdnuggets.com/2021/04/shapash-machine-learning-models-understandable.html"
   ]
  },
  {
   "cell_type": "code",
   "execution_count": null,
   "id": "thick-death",
   "metadata": {},
   "outputs": [],
   "source": [
    "# instalando a biblioteca\n",
    "#!pip install shapash"
   ]
  },
  {
   "cell_type": "code",
   "execution_count": null,
   "id": "surprised-japan",
   "metadata": {},
   "outputs": [],
   "source": [
    "# importando as bilbiotecas\n",
    "import pandas as pd\n",
    "from shapash.data.data_loader import data_loading\n",
    "\n",
    "from category_encoders import OrdinalEncoder\n",
    "\n",
    "from sklearn.model_selection import train_test_split\n",
    "from sklearn.ensemble import RandomForestRegressor\n",
    "\n",
    "from shapash.explainer.smart_explainer import SmartExplainer\n",
    "\n",
    "import warnings\n",
    "# warnings.simplefilter(action='ignore', category=FutureWarning)\n",
    "warnings.filterwarnings(\"ignore\")"
   ]
  },
  {
   "cell_type": "markdown",
   "id": "ignored-success",
   "metadata": {},
   "source": [
    "Para testar, vamos utilizar no conjunto de dados “Preços das casas” do Kaggle para ajustar um regressor e prever os preços das casas."
   ]
  },
  {
   "cell_type": "code",
   "execution_count": null,
   "id": "careful-oasis",
   "metadata": {},
   "outputs": [],
   "source": [
    "# importando o conjunto de dados\n",
    "house_df, house_dict = data_loading('house_prices')\n",
    "\n",
    "# checando as primeiras linhas\n",
    "house_df.head()"
   ]
  },
  {
   "cell_type": "code",
   "execution_count": null,
   "id": "particular-amount",
   "metadata": {},
   "outputs": [],
   "source": [
    "# checando as dimensões\n",
    "house_df.shape"
   ]
  },
  {
   "cell_type": "code",
   "execution_count": null,
   "id": "cordless-pencil",
   "metadata": {},
   "outputs": [],
   "source": [
    "# definindo X\n",
    "X = house_df.drop(['SalePrice'], axis=1)\n",
    "\n",
    "# definindo y\n",
    "y = house_df['SalePrice'].to_frame()\n",
    "\n",
    "# criando uma lista com nomes das variáveis categóricas\n",
    "categorical_features = house_df.select_dtypes('object').columns.tolist()\n",
    "\n",
    "# instanciando o Ordinal Encoder\n",
    "encoder = OrdinalEncoder(cols=categorical_features)\n",
    "\n",
    "# treinando o Ordinal Encoder\n",
    "encoder.fit(X)\n",
    "\n",
    "# transformando as variáveis\n",
    "X = encoder.transform(X)\n",
    "\n",
    "# checando as primeiras linhas transformadas\n",
    "X.head(2)"
   ]
  },
  {
   "cell_type": "code",
   "execution_count": null,
   "id": "waiting-defendant",
   "metadata": {},
   "outputs": [],
   "source": [
    "# Separando os dados em treino e teste\n",
    "Xtrain, Xtest, ytrain, ytest = train_test_split(X, y, test_size=0.3)\n",
    "\n",
    "# intanciando modelo\n",
    "reg = RandomForestRegressor(n_estimators=200, min_samples_leaf=2)\n",
    "\n",
    "# treinando o modelo\n",
    "reg.fit(Xtrain,ytrain)\n",
    "\n",
    "# realizando as previsões\n",
    "y_pred = pd.DataFrame(reg.predict(Xtest), columns=['pred'], index=Xtest.index)"
   ]
  },
  {
   "cell_type": "markdown",
   "id": "imported-aggregate",
   "metadata": {},
   "source": [
    "## Começando analisar com SmartExplainer Object\n",
    "\n",
    "A classe SmartExplainer é o objeto principal da biblioteca Shapash. Ele permite que os cientistas de dados realizem várias operações para tornar os resultados mais compreensíveis: vincular codificadores, modelos, previsões, ditado de rótulo e conjuntos de dados. Os usuários do SmartExplainer têm vários métodos descritos a seguir."
   ]
  },
  {
   "cell_type": "code",
   "execution_count": null,
   "id": "industrial-devil",
   "metadata": {},
   "outputs": [],
   "source": [
    "# instanciando o SmartExplainer como objeto\n",
    "xpl = SmartExplainer(features_dict=house_dict) # parametro opcional que especifica cada nome da coluna"
   ]
  },
  {
   "cell_type": "code",
   "execution_count": null,
   "id": "billion-nature",
   "metadata": {},
   "outputs": [],
   "source": [
    "# compilando\n",
    "xpl.compile(\n",
    "    x=Xtest,\n",
    "    model=reg,\n",
    "    preprocessing=encoder,# Optional: use inverse_transform method\n",
    "    y_pred=y_pred # Optional\n",
    ")"
   ]
  },
  {
   "cell_type": "code",
   "execution_count": null,
   "id": "packed-steel",
   "metadata": {},
   "outputs": [],
   "source": [
    "# iniciando o webapp\n",
    "app = xpl.run_app()"
   ]
  },
  {
   "cell_type": "code",
   "execution_count": null,
   "id": "educated-merit",
   "metadata": {},
   "outputs": [],
   "source": [
    "# \"derruba\" o webapp\n",
    "app.kill()"
   ]
  }
 ],
 "metadata": {
  "kernelspec": {
   "display_name": "Python 3",
   "language": "python",
   "name": "python3"
  },
  "language_info": {
   "codemirror_mode": {
    "name": "ipython",
    "version": 3
   },
   "file_extension": ".py",
   "mimetype": "text/x-python",
   "name": "python",
   "nbconvert_exporter": "python",
   "pygments_lexer": "ipython3",
   "version": "3.7.10"
  }
 },
 "nbformat": 4,
 "nbformat_minor": 5
}
